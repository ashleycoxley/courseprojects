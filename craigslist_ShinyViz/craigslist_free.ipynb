{
 "metadata": {
  "name": ""
 },
 "nbformat": 3,
 "nbformat_minor": 0,
 "worksheets": [
  {
   "cells": [
    {
     "cell_type": "markdown",
     "metadata": {},
     "source": [
      "## April 27 ##"
     ]
    },
    {
     "cell_type": "code",
     "collapsed": false,
     "input": [
      "from nltk.tokenize import RegexpTokenizer\n",
      "from nltk.stem import PorterStemmer\n",
      "from sklearn.feature_extraction.text import TfidfVectorizer\n",
      "from random import randrange\n",
      "from sklearn.datasets import load_files\n",
      "import csv\n",
      "import re"
     ],
     "language": "python",
     "metadata": {},
     "outputs": [],
     "prompt_number": 1
    },
    {
     "cell_type": "code",
     "collapsed": false,
     "input": [
      "craigs_file = '/Users/ashley/Desktop/Data_Visualization/craigslist_free_tues.csv'\n",
      "\n",
      "free = []\n",
      "\n",
      "with open(craigs_file, 'rU') as in_file:\n",
      "    reader = csv.reader(in_file)\n",
      "    for line in reader:\n",
      "        free.append(line)\n",
      "\n",
      "data = []\n",
      "for item in free:\n",
      "    url = item[0]\n",
      "    titlestring = item[1].split('(')\n",
      "    text = item[2]\n",
      "    \n",
      "    if len(titlestring) < 2:\n",
      "        continue\n",
      "    \n",
      "    zone = url[32:35]\n",
      "    title = titlestring[0].strip()\n",
      "    nbrhd = titlestring[1].strip(')')\n",
      "    \n",
      "    data_line = [url, zone, nbrhd, title, text]\n",
      "    \n",
      "    data.append(data_line)\n",
      "\n",
      "# with open('/Users/ashley/Desktop/Data_Visualization/craigslist_parsed.csv', 'w') as out_file:\n",
      "#     writer = csv.writer(out_file)\n",
      "#     for line in data:\n",
      "#         writer.writerow(line)\n",
      "    \n"
     ],
     "language": "python",
     "metadata": {},
     "outputs": [],
     "prompt_number": 10
    },
    {
     "cell_type": "code",
     "collapsed": false,
     "input": [
      "documents = []\n",
      "for line in data:\n",
      "    documents.append(line[4])"
     ],
     "language": "python",
     "metadata": {},
     "outputs": [],
     "prompt_number": 15
    },
    {
     "cell_type": "code",
     "collapsed": false,
     "input": [
      "def preprocess(text):\n",
      "    # Removes parentheses, angle brackets, underscores, and any instances of 3 or more dashes,\n",
      "    # and converts text to lowercase\n",
      "    removal = re.sub('[_\\(\\)\\<\\>]|\\-{3,}', '', text).lower()\n",
      "    return removal\n",
      "\n",
      "def stem_tokens(tokens):\n",
      "    # Stems using PorterStemmer\n",
      "    stemmer = PorterStemmer()\n",
      "    stemmed = [stemmer.stem(item) for item in tokens]\n",
      "    return stemmed\n",
      "\n",
      "def tokenize(text):\n",
      "    # Tokenizes on email addresses, words that contain at least two letters and (optionally) numbers,\n",
      "    # and prices. (Fantastic email-matching regex borrowed from Stack Overflow:\n",
      "    # http://stackoverflow.com/questions/201323/using-a-regular-expression-to-validate-an-email-address)\n",
      "    tokenizer = RegexpTokenizer('[_a-z0-9-]+(\\.[_a-z0-9-]+)*@[a-z0-9-]+(\\.[a-z0-9-]+)*(\\.[a-z]{2,4})|[a-z]{2,}\\d*|\\$\\d+\\.\\d*')\n",
      "    tokens = tokenizer.tokenize(text)\n",
      "    stems = stem_tokens(tokens)\n",
      "    return stems\n",
      "\n"
     ],
     "language": "python",
     "metadata": {},
     "outputs": [],
     "prompt_number": 16
    },
    {
     "cell_type": "code",
     "collapsed": false,
     "input": [
      "tokenized = []\n",
      "for item in documents:\n",
      "    pr = preprocess(item)\n",
      "    to = tokenize(pr)\n",
      "    #st = stem_tokens(to)\n",
      "    tokenized.append(to)"
     ],
     "language": "python",
     "metadata": {},
     "outputs": [],
     "prompt_number": 17
    },
    {
     "cell_type": "code",
     "collapsed": false,
     "input": [
      "title_token = []\n",
      "for item in data:\n",
      "    title = item[3]\n",
      "    pr = preprocess(title)\n",
      "    to = tokenize(pr)\n",
      "    title_token.append(to)"
     ],
     "language": "python",
     "metadata": {},
     "outputs": [],
     "prompt_number": 18
    },
    {
     "cell_type": "code",
     "collapsed": false,
     "input": [
      "tokenized_data = []\n",
      "\n",
      "for i, item in enumerate(data):\n",
      "    newline = item\n",
      "    newline.append(title_token[i])\n",
      "    newline.append(tokenized[i])\n",
      "    tokenized_data.append(newline)\n",
      "\n",
      "with open('/Users/ashley/Desktop/Data_Visualization/craigs_tokens.csv', 'w') as out_f:\n",
      "    writer = csv.writer(out_f)\n",
      "    for line in tokenized_data:\n",
      "        writer.writerow(line)\n",
      "    "
     ],
     "language": "python",
     "metadata": {},
     "outputs": [],
     "prompt_number": 19
    },
    {
     "cell_type": "code",
     "collapsed": false,
     "input": [
      "print len(data), len(tokenized), len(title_token)"
     ],
     "language": "python",
     "metadata": {},
     "outputs": [
      {
       "output_type": "stream",
       "stream": "stdout",
       "text": [
        "2067 2067 2067\n"
       ]
      }
     ],
     "prompt_number": 42
    },
    {
     "cell_type": "code",
     "collapsed": false,
     "input": [
      "print documents[0]"
     ],
     "language": "python",
     "metadata": {},
     "outputs": [
      {
       "output_type": "stream",
       "stream": "stdout",
       "text": [
        "sunset / parkside\n"
       ]
      }
     ],
     "prompt_number": 12
    },
    {
     "cell_type": "markdown",
     "metadata": {},
     "source": [
      "## April 29 ##"
     ]
    },
    {
     "cell_type": "code",
     "collapsed": false,
     "input": [
      "from nltk.tag import pos_tag\n",
      "from nltk.tokenize import word_tokenize\n",
      "import re"
     ],
     "language": "python",
     "metadata": {},
     "outputs": [],
     "prompt_number": 28
    },
    {
     "cell_type": "code",
     "collapsed": false,
     "input": [
      "parsed_f = '/Users/ashley/Desktop/Data_Visualization/craigslist_parsed.csv'\n",
      "\n",
      "parsed = []\n",
      "with open(parsed_f, 'rU') as infile:\n",
      "    reader = csv.reader(infile)\n",
      "    for line in reader:\n",
      "        parsed.append(line)\n",
      "    \n",
      "    "
     ],
     "language": "python",
     "metadata": {},
     "outputs": [],
     "prompt_number": 54
    },
    {
     "cell_type": "code",
     "collapsed": false,
     "input": [
      "titles = []\n",
      "\n",
      "for i in parsed:\n",
      "    title = i[3]\n",
      "    #lowered = [j.strip().strip('!./-:').lower() for j in title.split()]\n",
      "    titles.append(title)\n",
      "    "
     ],
     "language": "python",
     "metadata": {},
     "outputs": [],
     "prompt_number": 25
    },
    {
     "cell_type": "code",
     "collapsed": false,
     "input": [
      "tagged = []\n",
      "for title in titles:\n",
      "    title = title.lower()\n",
      "    title_tok = word_tokenize(title)\n",
      "    title_tag = pos_tag(title_tok)\n",
      "    tagged.append(title_tag)\n",
      "    "
     ],
     "language": "python",
     "metadata": {},
     "outputs": [],
     "prompt_number": 31
    },
    {
     "cell_type": "code",
     "collapsed": false,
     "input": [
      "tagged[:10]"
     ],
     "language": "python",
     "metadata": {},
     "outputs": [
      {
       "metadata": {},
       "output_type": "pyout",
       "prompt_number": 32,
       "text": [
        "[[('curb', 'NN'),\n",
        "  ('alert', 'NN'),\n",
        "  ('!', '.'),\n",
        "  ('free', 'JJ'),\n",
        "  ('packing', 'NN'),\n",
        "  ('material', 'NN'),\n",
        "  ('paper', 'NN'),\n",
        "  (',', ','),\n",
        "  ('bubble', 'JJ'),\n",
        "  ('wrap', 'NN'),\n",
        "  (',', ','),\n",
        "  ('box', 'NN')],\n",
        " [('free', 'JJ'),\n",
        "  (':', ':'),\n",
        "  ('white', 'JJ'),\n",
        "  ('glider', 'NN'),\n",
        "  ('chair', 'NN')],\n",
        " [('free', 'JJ'), ('piano', 'NN')],\n",
        " [('free', 'JJ'), ('drywall', 'NN'), ('scraps', 'NNS')],\n",
        " [('free', 'JJ'), ('dental', 'NN'), ('screening', 'VBG')],\n",
        " [('bookshelf', 'PRP'),\n",
        "  ('without', 'IN'),\n",
        "  ('shelves', 'NNS'),\n",
        "  ('for', 'IN'),\n",
        "  ('garage', 'NN')],\n",
        " [('free', 'JJ'), ('brown', 'NN'), ('pleather', 'NN'), ('couch', 'NN')],\n",
        " [('estate', 'NN'), ('left', 'VBD'), ('overs', 'NNS')],\n",
        " [('free', 'JJ'), ('working', 'NN'), ('refrigerator', 'NN')],\n",
        " [('free', 'JJ'),\n",
        "  ('office', 'NN'),\n",
        "  ('chair', 'NN'),\n",
        "  ('!', '.'),\n",
        "  ('!', '.'),\n",
        "  ('!', '.')]]"
       ]
      }
     ],
     "prompt_number": 32
    },
    {
     "cell_type": "code",
     "collapsed": false,
     "input": [
      "items = []\n",
      "for i in tagged:\n",
      "    line = []\n",
      "    for elt in i:\n",
      "        if re.match('N', elt[1]):\n",
      "            line.append(elt)\n",
      "    items.append(line)"
     ],
     "language": "python",
     "metadata": {},
     "outputs": [],
     "prompt_number": 33
    },
    {
     "cell_type": "code",
     "collapsed": false,
     "input": [
      "words_only = []\n",
      "for i in items:\n",
      "    line = [j[0] for j in i]\n",
      "    words_only.append(line)\n",
      "    "
     ],
     "language": "python",
     "metadata": {},
     "outputs": [],
     "prompt_number": 36
    },
    {
     "cell_type": "code",
     "collapsed": false,
     "input": [
      "title_token_f = '/Users/ashley/Desktop/Data_Visualization/craigs_title_items.csv'\n",
      "\n",
      "with open(title_token_f, 'w') as infile:\n",
      "    writer = csv.writer(infile)\n",
      "    for line in words_only:\n",
      "        writer.writerow(line)"
     ],
     "language": "python",
     "metadata": {},
     "outputs": [],
     "prompt_number": 37
    },
    {
     "cell_type": "code",
     "collapsed": false,
     "input": [
      "last_words_only = []\n",
      "for i in words_only:\n",
      "    if len(i) > 0:\n",
      "        last_words_only.append(i[-1])\n",
      "    else:\n",
      "        last_words_only.append('NA')"
     ],
     "language": "python",
     "metadata": {},
     "outputs": [],
     "prompt_number": 42
    },
    {
     "cell_type": "code",
     "collapsed": false,
     "input": [
      "title_token_f_lwd = '/Users/ashley/Desktop/Data_Visualization/craigs_title_items_lastwd.csv'\n",
      "\n",
      "with open(title_token_f_lwd, 'w') as infile:\n",
      "    writer = csv.writer(infile)\n",
      "    for line in last_words_only:\n",
      "        writer.writerow(line)"
     ],
     "language": "python",
     "metadata": {},
     "outputs": [],
     "prompt_number": 43
    },
    {
     "cell_type": "code",
     "collapsed": false,
     "input": [
      "plus_item = []\n",
      "for i, elt in enumerate(parsed):\n",
      "    elt.append(last_words_only[i])\n",
      "\n"
     ],
     "language": "python",
     "metadata": {},
     "outputs": [],
     "prompt_number": 55
    },
    {
     "cell_type": "code",
     "collapsed": false,
     "input": [
      "with_item = '/Users/ashley/Desktop/Data_Visualization/craigs_parsed_w_item.csv'\n",
      "\n",
      "with open(with_item, 'w') as infile:\n",
      "    writer = csv.writer(infile)\n",
      "    for line in parsed:\n",
      "        writer.writerow(line)\n",
      "    "
     ],
     "language": "python",
     "metadata": {},
     "outputs": [],
     "prompt_number": 57
    },
    {
     "cell_type": "code",
     "collapsed": false,
     "input": [],
     "language": "python",
     "metadata": {},
     "outputs": []
    }
   ],
   "metadata": {}
  }
 ]
}